{
 "cells": [
  {
   "cell_type": "code",
   "execution_count": 8,
   "id": "cbaa7f80",
   "metadata": {},
   "outputs": [],
   "source": [
    "import cv2\n",
    "nose_cascade=cv2.CascadeClassifier(r\"C:\\Users\\sitar\\Untitled Folder\\ML wokshop data\\task4\\haarcascade_mcs_nose.xml\")\n",
    "mouth_cascade=cv2.CascadeClassifier(r\"C:\\Users\\sitar\\Untitled Folder\\ML wokshop data\\task4\\haarcascade_mcs_mouth.xml\")\n",
    "eye_big=cv2.CascadeClassifier(r\"C:\\Users\\sitar\\Untitled Folder\\ML wokshop data\\task4\\haarcascade_mcs_eyepair_big.xml\")\n",
    "faceDetect=cv2.CascadeClassifier(r\"C:\\Users\\sitar\\Untitled Folder\\ML wokshop data\\haarcascade_frontalface_default.xml\")\n",
    "cam=cv2.VideoCapture(0)\n",
    "\n",
    "while(True):\n",
    "    ret,frame=cam.read()\n",
    "    gray=cv2.cvtColor(frame,cv2.COLOR_BGR2GRAY)\n",
    "    \n",
    "    nose_rects=nose_cascade.detectMultiScale(gray,1.1,5)\n",
    "    for(x,y,w,h) in nose_rects:\n",
    "        cv2.rectangle(frame,(x,y),(x+w,y+h),(0,128,255),2)\n",
    "        break\n",
    "    mouth_rects=mouth_cascade.detectMultiScale(gray,1.1,5)\n",
    "    for(x,y,w,h) in mouth_rects:\n",
    "        cv2.rectangle(frame,(x,y),(x+w,y+h),(128,128,0),2)\n",
    "        break\n",
    "    eyeBig=eye_big.detectMultiScale(gray,1.1,5)\n",
    "    for(x,y,w,h) in eyeBig:\n",
    "        cv2.rectangle(frame,(x,y),(x+w,y+h),(7,7,2),2)\n",
    "        break\n",
    "    faces=faceDetect.detectMultiScale(gray,1.3,5)\n",
    "    for(x,y,w,h) in faces:\n",
    "        cv2.rectangle(frame,(x,y),(x+w,y+h),(128,18,25),3)\n",
    "        break\n",
    "   \n",
    "\n",
    "\n",
    "\n",
    "    cv2.imshow(\"Facial Features Detector\",frame)\n",
    "    \n",
    "    \n",
    "    \n",
    "    k=cv2.waitKey(30)&0xff\n",
    "    if k==27:\n",
    "        break\n",
    "cam.release()\n",
    "cv2.destroyAllWindows()"
   ]
  },
  {
   "cell_type": "code",
   "execution_count": null,
   "id": "6163de21",
   "metadata": {},
   "outputs": [],
   "source": []
  }
 ],
 "metadata": {
  "kernelspec": {
   "display_name": "Python 3 (ipykernel)",
   "language": "python",
   "name": "python3"
  },
  "language_info": {
   "codemirror_mode": {
    "name": "ipython",
    "version": 3
   },
   "file_extension": ".py",
   "mimetype": "text/x-python",
   "name": "python",
   "nbconvert_exporter": "python",
   "pygments_lexer": "ipython3",
   "version": "3.9.12"
  }
 },
 "nbformat": 4,
 "nbformat_minor": 5
}
