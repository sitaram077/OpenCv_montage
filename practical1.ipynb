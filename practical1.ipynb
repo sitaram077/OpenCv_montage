{
 "cells": [
  {
   "cell_type": "code",
   "execution_count": null,
   "id": "1d9540b0",
   "metadata": {},
   "outputs": [],
   "source": [
    "import cv2 #imoprting the library file\n",
    "#reading the image\n",
    "img=cv2.imread(r\"C:\\Users\\sitar\\Untitled Folder\\ML wokshop data\\apple.jpg\",0)#either give the full path or if the file is in same folder the file name would work\n",
    "#0-grayscale,1 for color image,-1 \n",
    "cv2.imshow('apple',img)#display an image\n",
    "#k=cv2.waitkey(0)&0xFF \n",
    "cv2.imwrite('applegray.png',img)#save as new image\n",
    "cv2.waitKey(0)\n",
    "cv2.destroyAllWindows()"
   ]
  },
  {
   "cell_type": "code",
   "execution_count": null,
   "id": "9e1a5834",
   "metadata": {},
   "outputs": [],
   "source": [
    "import cv2 #imoprting the library file\n",
    "#reading the image\n",
    "img=cv2.imread(r\"C:\\Users\\sitar\\Untitled Folder\\ML wokshop data\\apple.jpg\",0)#either give the full path or if the file is in same folder the file name would work\n",
    "#0-grayscale,1 for color image,-1 \n",
    "cv2.imshow('apple',img)#display an image\n",
    "#k=cv2.waitkey(0)&0xFF \n",
    "cv2.imwrite('applegray.png',img)#save as new image\n",
    "cv2.waitKey(0)\n",
    "cv2.destroyAllWindows()"
   ]
  },
  {
   "cell_type": "code",
   "execution_count": null,
   "id": "ba006742",
   "metadata": {},
   "outputs": [],
   "source": []
  }
 ],
 "metadata": {
  "kernelspec": {
   "display_name": "Python 3 (ipykernel)",
   "language": "python",
   "name": "python3"
  },
  "language_info": {
   "codemirror_mode": {
    "name": "ipython",
    "version": 3
   },
   "file_extension": ".py",
   "mimetype": "text/x-python",
   "name": "python",
   "nbconvert_exporter": "python",
   "pygments_lexer": "ipython3",
   "version": "3.9.12"
  }
 },
 "nbformat": 4,
 "nbformat_minor": 5
}
