{
 "cells": [
  {
   "cell_type": "code",
   "execution_count": 19,
   "id": "9f845058",
   "metadata": {},
   "outputs": [
    {
     "name": "stdout",
     "output_type": "stream",
     "text": [
      "Faces detected:2\n"
     ]
    }
   ],
   "source": [
    "import cv2\n",
    "\n",
    "cascPath=r\"C:\\Users\\sitar\\Untitled Folder\\ML wokshop data\\haarcascade_frontalface_default.xml\"\n",
    "faceCascade=cv2.CascadeClassifier(cascPath)\n",
    "image=cv2.imread(r\"C:\\Users\\sitar\\Untitled Folder\\ML wokshop data\\family.jpg\")\n",
    "gray=cv2.cvtColor(image,cv2.COLOR_BGR2GRAY)\n",
    "faces=faceCascade.detectMultiScale(gray,1.3,5)\n",
    "print(\"Faces detected:{0}\".format(len(faces)))\n",
    "for(x,y,w,h) in faces:\n",
    "    cv2.rectangle(image,(x,y),(x+w,y+h),(255,0,255),1)\n",
    "    \n",
    "cv2.imshow('Faces Found',image)\n",
    "cv2.waitKey(0)\n",
    "cv2.destroyAllWindows()"
   ]
  },
  {
   "cell_type": "code",
   "execution_count": 22,
   "id": "30b93c30",
   "metadata": {},
   "outputs": [
    {
     "name": "stdout",
     "output_type": "stream",
     "text": [
      "Faces detected:1\n"
     ]
    }
   ],
   "source": [
    "import cv2\n",
    "\n",
    "cascPath=r\"C:\\Users\\sitar\\Untitled Folder\\ML wokshop data\\haarcascade_frontalface_default.xml\"\n",
    "faceCascade=cv2.CascadeClassifier(cascPath)\n",
    "image=cv2.imread(r\"C:\\Users\\sitar\\Untitled Folder\\ML wokshop data\\BW.jpeg\")\n",
    "gray=cv2.cvtColor(image,cv2.COLOR_BGR2GRAY)\n",
    "faces=faceCascade.detectMultiScale(gray,1.3,5)\n",
    "print(\"Faces detected:{0}\".format(len(faces)))\n",
    "for(x,y,w,h) in faces:\n",
    "    cv2.rectangle(image,(x,y),(x+w,y+h),(128,0,0),1)\n",
    "    \n",
    "cv2.imshow('Faces Found',image)\n",
    "cv2.waitKey(0)\n",
    "cv2.destroyAllWindows()"
   ]
  },
  {
   "cell_type": "code",
   "execution_count": null,
   "id": "c93955e1",
   "metadata": {},
   "outputs": [],
   "source": []
  }
 ],
 "metadata": {
  "kernelspec": {
   "display_name": "Python 3 (ipykernel)",
   "language": "python",
   "name": "python3"
  },
  "language_info": {
   "codemirror_mode": {
    "name": "ipython",
    "version": 3
   },
   "file_extension": ".py",
   "mimetype": "text/x-python",
   "name": "python",
   "nbconvert_exporter": "python",
   "pygments_lexer": "ipython3",
   "version": "3.9.12"
  }
 },
 "nbformat": 4,
 "nbformat_minor": 5
}
