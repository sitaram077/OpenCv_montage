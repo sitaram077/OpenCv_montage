{
 "cells": [
  {
   "cell_type": "code",
   "execution_count": 16,
   "id": "c6076114",
   "metadata": {},
   "outputs": [],
   "source": [
    "import cv2\n",
    "faceDetect=cv2.CascadeClassifier(r\"C:\\Users\\sitar\\Untitled Folder\\ML wokshop data\\haarcascade_frontalface_default.xml\")\n",
    "cam=cv2.VideoCapture(0)\n",
    "\n",
    "while(True):\n",
    "    ret,img=cam.read()\n",
    "    gray=cv2.cvtColor(img,cv2.COLOR_BGR2GRAY)\n",
    "    faces=faceDetect.detectMultiScale(gray,1.3,5)\n",
    "    \n",
    "    for(x,y,w,h) in faces:\n",
    "        cv2.rectangle(img,(x,y),(x+w,y+h),(128,128,255),7)\n",
    "    cv2.imshow(\"Face\",img)\n",
    "    k=cv2.waitKey(30)&0xff\n",
    "    if k==27:\n",
    "        break\n",
    "cam.release()\n",
    "cv2.destroyAllWindows()"
   ]
  },
  {
   "cell_type": "code",
   "execution_count": null,
   "id": "4c7b60cd",
   "metadata": {},
   "outputs": [],
   "source": []
  },
  {
   "cell_type": "code",
   "execution_count": null,
   "id": "3b4a3fba",
   "metadata": {},
   "outputs": [],
   "source": []
  }
 ],
 "metadata": {
  "kernelspec": {
   "display_name": "Python 3 (ipykernel)",
   "language": "python",
   "name": "python3"
  },
  "language_info": {
   "codemirror_mode": {
    "name": "ipython",
    "version": 3
   },
   "file_extension": ".py",
   "mimetype": "text/x-python",
   "name": "python",
   "nbconvert_exporter": "python",
   "pygments_lexer": "ipython3",
   "version": "3.9.12"
  }
 },
 "nbformat": 4,
 "nbformat_minor": 5
}
