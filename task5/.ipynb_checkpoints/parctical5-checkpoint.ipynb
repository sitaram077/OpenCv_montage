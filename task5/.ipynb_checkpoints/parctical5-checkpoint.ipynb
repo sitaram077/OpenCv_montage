{
 "cells": [
  {
   "cell_type": "code",
   "execution_count": 6,
   "id": "3cd8cd66",
   "metadata": {},
   "outputs": [
    {
     "ename": "error",
     "evalue": "OpenCV(4.6.0) D:\\a\\opencv-python\\opencv-python\\opencv\\modules\\imgproc\\src\\color.cpp:182: error: (-215:Assertion failed) !_src.empty() in function 'cv::cvtColor'\n",
     "output_type": "error",
     "traceback": [
      "\u001b[1;31m---------------------------------------------------------------------------\u001b[0m",
      "\u001b[1;31merror\u001b[0m                                     Traceback (most recent call last)",
      "Input \u001b[1;32mIn [6]\u001b[0m, in \u001b[0;36m<cell line: 7>\u001b[1;34m()\u001b[0m\n\u001b[0;32m      6\u001b[0m \u001b[38;5;28;01mwhile\u001b[39;00m \u001b[38;5;28;01mTrue\u001b[39;00m:\n\u001b[0;32m      7\u001b[0m     ret,frames\u001b[38;5;241m=\u001b[39mcap\u001b[38;5;241m.\u001b[39mread()\n\u001b[1;32m----> 8\u001b[0m     gray\u001b[38;5;241m=\u001b[39m\u001b[43mcv2\u001b[49m\u001b[38;5;241;43m.\u001b[39;49m\u001b[43mcvtColor\u001b[49m\u001b[43m(\u001b[49m\u001b[43mframes\u001b[49m\u001b[43m,\u001b[49m\u001b[43mcv2\u001b[49m\u001b[38;5;241;43m.\u001b[39;49m\u001b[43mCOLOR_BGR2GRAY\u001b[49m\u001b[43m)\u001b[49m\n\u001b[0;32m      9\u001b[0m     cars\u001b[38;5;241m=\u001b[39mcap_cascade\u001b[38;5;241m.\u001b[39mdetectMultiScale(gray,\u001b[38;5;241m1.3\u001b[39m,\u001b[38;5;241m5\u001b[39m)\n\u001b[0;32m     11\u001b[0m     \u001b[38;5;28;01mfor\u001b[39;00m(x,y,w,h) \u001b[38;5;129;01min\u001b[39;00m cars:\n",
      "\u001b[1;31merror\u001b[0m: OpenCV(4.6.0) D:\\a\\opencv-python\\opencv-python\\opencv\\modules\\imgproc\\src\\color.cpp:182: error: (-215:Assertion failed) !_src.empty() in function 'cv::cvtColor'\n"
     ]
    }
   ],
   "source": [
    "import cv2\n",
    "cap=cv2.VideoCapture(r\"C:\\Users\\sitar\\Untitled Folder\\ML wokshop data\\task5\\video1.avi\")\n",
    "cap_cascade=cv2.CascadeClassifier(r\"C:\\Users\\sitar\\Untitled Folder\\ML wokshop data\\task5\\cars.xml\")\n",
    "frameNumber=0\n",
    "\n",
    "while True:\n",
    "    ret,frames=cap.read()\n",
    "    gray=cv2.cvtColor(frames,cv2.COLOR_BGR2GRAY)\n",
    "    cars=cap_cascade.detectMultiScale(gray,1.3,5)\n",
    "    \n",
    "    for(x,y,w,h) in cars:\n",
    "        cv2.rectangle(frames,(x,y),(x+w,y+h),(128,128,255),7)\n",
    "    cv2.imshow(\"Face\",frames)\n",
    "    k=cv2.waitKey(30)&0xff\n",
    "    if k==27:\n",
    "        break\n",
    "cam.release()\n",
    "cv2.destroyAllWindows()"
   ]
  },
  {
   "cell_type": "code",
   "execution_count": null,
   "id": "53c9792f",
   "metadata": {},
   "outputs": [],
   "source": []
  }
 ],
 "metadata": {
  "kernelspec": {
   "display_name": "Python 3 (ipykernel)",
   "language": "python",
   "name": "python3"
  },
  "language_info": {
   "codemirror_mode": {
    "name": "ipython",
    "version": 3
   },
   "file_extension": ".py",
   "mimetype": "text/x-python",
   "name": "python",
   "nbconvert_exporter": "python",
   "pygments_lexer": "ipython3",
   "version": "3.9.12"
  }
 },
 "nbformat": 4,
 "nbformat_minor": 5
}
